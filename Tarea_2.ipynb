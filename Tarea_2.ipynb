{
  "nbformat": 4,
  "nbformat_minor": 0,
  "metadata": {
    "colab": {
      "provenance": [],
      "toc_visible": true,
      "include_colab_link": true
    },
    "kernelspec": {
      "name": "python3",
      "display_name": "Python 3"
    },
    "language_info": {
      "name": "python"
    }
  },
  "cells": [
    {
      "cell_type": "markdown",
      "metadata": {
        "id": "view-in-github",
        "colab_type": "text"
      },
      "source": [
        "<a href=\"https://colab.research.google.com/github/MiguelUC-Student/AMLE-Tareas/blob/main/Tarea_2.ipynb\" target=\"_parent\"><img src=\"https://colab.research.google.com/assets/colab-badge.svg\" alt=\"Open In Colab\"/></a>"
      ]
    },
    {
      "cell_type": "markdown",
      "source": [
        "EAE3709 APLICACIONES DE  MACHINE LEARNING EN ECONOMÍA <br>\n",
        "1ER SEMESTRE 2025 <br>\n",
        "INSTITUTO DE ECONOMÍA <br>\n",
        "PONTIFICIA UNIVERSIDAD CATÓLICA DE CHILE\n",
        "\n",
        "\n",
        "# **TAREA 2**\n",
        "\n",
        "\n",
        "---\n",
        "\n",
        "\n",
        "Profesor:\n",
        "- Joaquín Pérez Lapillo\n",
        "\n",
        "Ayudantes:\n",
        "\n",
        "- Luis García B.\n",
        "- Sebastián Hernández B.\n",
        "- Oscar Herrera G.\n"
      ],
      "metadata": {
        "id": "IbwtDKkSJxE9"
      }
    },
    {
      "cell_type": "markdown",
      "source": [
        "**Complete sus datos:**\n",
        "\n",
        "- Nombre y apellido:\n",
        "  - `Miguel Romero`\n",
        "- Usuario de GitHub (opcional):  `MiguelUC-Student`\n"
      ],
      "metadata": {
        "id": "xCs4syNLJ9Gh"
      }
    },
    {
      "cell_type": "markdown",
      "source": [
        "## Instrucciones\n",
        "\n",
        "- Descargue el notebook y cárguelo en su Drive.\n",
        "- Todas las preguntas deben ser contestadas en su notebook.\n",
        "- Para que una pregunta esté correcta el código debe correr.\n",
        "- Si es necesario, realice comentarios breves en su código explicando lo que está realizando o sus resultados.\n",
        "- Una vez culminada su tarea, suba su notebook al buzón de tareas de Canvas.\n",
        "- La fecha y hora límite de esta tarea es el _**viernes 30 de mayo a las 20:00 hrs**_.\n",
        "\n"
      ],
      "metadata": {
        "id": "tP_MIjWrKFqN"
      }
    },
    {
      "cell_type": "markdown",
      "source": [
        "### Distribución de puntaje\n",
        "\n",
        "\n",
        "| Pregunta                        | Puntaje |\n",
        "|--------------------------------|---------|\n",
        "| Pregunta 1.0                   |    1    |\n",
        "| Pregunta 1.1                   |    2    |\n",
        "| Pregunta 1.2                   |    2    |\n",
        "| Pregunta 1.3                   |    2    |\n",
        "| Pregunta 1.4                   |    5    |\n",
        "| Pregunta 1.5                   |    5    |\n",
        "| Pregunta 1.6                   |    2    |\n",
        "| Pregunta 1.7                   |    2    |\n",
        "| Pregunta 1.8                   |    3    |\n",
        "| Pregunta 1.9                   |    3    |\n",
        "| Pregunta 1.10                   |    5    |\n",
        "| Pregunta 1.11                   |    5    |\n",
        "| Pregunta 1.12                   |    5    |\n",
        "| Pregunta 1.13                   |    3    |\n",
        "| Pregunta 1.13                   |    5    |\n",
        "| Pregunta 2.0                   |    1    |\n",
        "| Pregunta 2.1                   |    1    |\n",
        "| Pregunta 2.2                   |    1    |\n",
        "| Pregunta 2.3                   |    3    |\n",
        "| Pregunta 2.4                   |    5    |\n",
        "| Pregunta 2.5                   |    3    |\n",
        "| Pregunta 2.6                   |    3    |\n",
        "| Pregunta 2.7                   |    3    |\n",
        "| Pregunta 2.8                   |    5    |\n",
        "| Pregunta 2.9                   |    7    |\n",
        "| Pregunta 2.10                   |    4    |\n",
        "| Pregunta 2.11                   |    3    |\n",
        "| Pregunta 2.12                   |    1    |\n",
        "| Pregunta 2.13                   |    2    |\n",
        "| Pregunta 2.14                   |    3    |\n",
        "| Pregunta 2.15                   |    2    |\n",
        "| Pregunta 2.16                   |    3    |\n",
        "\n",
        "Total: 100 pts.\n"
      ],
      "metadata": {
        "id": "9pYuXYGfJ3a7"
      }
    },
    {
      "cell_type": "markdown",
      "source": [
        "# 1. Clasificación\n",
        "\n",
        "En esta pregunta trabajaremos con un _dataset_ que contiene información campañas de marketing de un banco portugués. La campaña se enfocó en llamadas telefónicas a distintos segmentos de clientes, de forma individualizada, con el objetivo incenitvar la toma depósitos por parte de los clientes.\n",
        "\n",
        "El problema presentado en este ejecicio busca predecir si el cliente suscribirá (sí/no) un depósito a plazo.\n",
        "\n",
        "\n",
        "\n",
        "A continuación, se despliega información oficial sobre el _dataset_:\n",
        "\n",
        "| Variable Name | Role    | Type        | Description                                                                                                                               |\n",
        "|---------------|---------|-------------|-------------------------------------------------------------------------------------------------------------------------------------------|\n",
        "| age           | Feature | Integer     |     years of age                                                                                                                                      |\n",
        "| job           | Feature | Categorical | type of job |\n",
        "| marital       | Feature | Categorical | marital status                          |\n",
        "| education     | Feature | Categorical | Education level         |\n",
        "| default       | Feature | Binary      | has credit in default?                                                                                                                    |\n",
        "| balance       | Feature | Integer     | average yearly balance in euros                                                                                                                    |\n",
        "| housing       | Feature | Binary      | has housing loan?                                                                                                                         |\n",
        "| loan          | Feature | Binary      | has personal loan?                                                                                                                        |\n",
        "| contact       | Feature | Categorical | contact communication type                                                                         |\n",
        "| day_of_week   | Feature | Date        | last contact day of the month (numeric)                                                                                                              |\n",
        "| month         | Feature | Date        | last contact month of year (categorical: 'jan', 'feb', 'mar', ..., 'nov', 'dec')                                                          |\n",
        "| duration*      | Feature | Integer     | last contact duration, in seconds (numeric).  |\n",
        "| campaign      | Feature | Integer     | number of contacts performed during this campaign and for this client                                      |\n",
        "| pdays         | Feature | Integer     | number of days that passed by after the client was last contacted from a previous campaign (numeric; -1 means client was not previously contacted) |\n",
        "| previous      | Feature | Integer     | number of contacts performed before this campaign and for this client                                                                       |\n",
        "| poutcome      | Feature | Categorical | outcome of the previous marketing campaign                                                |\n",
        "| y             | Target  | Binary      | has the client subscribed a term deposit?                                                                                                 |\n",
        "\n",
        "\n",
        "*Important note: this attribute highly affects the output target (e.g., if duration=0 then y='no'). Yet, the duration is not known before a call is performed. Also, after the end of the call y is obviously known. Thus, this input should only be included for benchmark purposes and should be discarded if the intention is to have a realistic predictive model.\n",
        "\n"
      ],
      "metadata": {
        "id": "ta7jj9uDKYE9"
      }
    },
    {
      "cell_type": "markdown",
      "source": [
        "En el sitio web [https://archive.ics.uci.edu/dataset/222/bank+marketing](https://archive.ics.uci.edu/dataset/222/bank+marketing) podrá encontrar información oficial del _dataset_.\n",
        "\n",
        "Use el código otorgado a continuación para importar los datos.\n"
      ],
      "metadata": {
        "id": "har2GXmULidn"
      }
    },
    {
      "cell_type": "code",
      "source": [
        "pip install ucimlrepo"
      ],
      "metadata": {
        "colab": {
          "base_uri": "https://localhost:8080/"
        },
        "id": "BCZqCx5m1hAM",
        "outputId": "a6355673-cf17-40f2-bc3a-cca737e6efe7"
      },
      "execution_count": 1,
      "outputs": [
        {
          "output_type": "stream",
          "name": "stdout",
          "text": [
            "Collecting ucimlrepo\n",
            "  Downloading ucimlrepo-0.0.7-py3-none-any.whl.metadata (5.5 kB)\n",
            "Requirement already satisfied: pandas>=1.0.0 in /usr/local/lib/python3.11/dist-packages (from ucimlrepo) (2.2.2)\n",
            "Requirement already satisfied: certifi>=2020.12.5 in /usr/local/lib/python3.11/dist-packages (from ucimlrepo) (2025.4.26)\n",
            "Requirement already satisfied: numpy>=1.23.2 in /usr/local/lib/python3.11/dist-packages (from pandas>=1.0.0->ucimlrepo) (2.0.2)\n",
            "Requirement already satisfied: python-dateutil>=2.8.2 in /usr/local/lib/python3.11/dist-packages (from pandas>=1.0.0->ucimlrepo) (2.9.0.post0)\n",
            "Requirement already satisfied: pytz>=2020.1 in /usr/local/lib/python3.11/dist-packages (from pandas>=1.0.0->ucimlrepo) (2025.2)\n",
            "Requirement already satisfied: tzdata>=2022.7 in /usr/local/lib/python3.11/dist-packages (from pandas>=1.0.0->ucimlrepo) (2025.2)\n",
            "Requirement already satisfied: six>=1.5 in /usr/local/lib/python3.11/dist-packages (from python-dateutil>=2.8.2->pandas>=1.0.0->ucimlrepo) (1.17.0)\n",
            "Downloading ucimlrepo-0.0.7-py3-none-any.whl (8.0 kB)\n",
            "Installing collected packages: ucimlrepo\n",
            "Successfully installed ucimlrepo-0.0.7\n"
          ]
        }
      ]
    },
    {
      "cell_type": "code",
      "execution_count": 2,
      "metadata": {
        "id": "ZT4BhuBqoPnZ"
      },
      "outputs": [],
      "source": [
        "from ucimlrepo import fetch_ucirepo\n",
        "\n",
        "# fetch dataset\n",
        "bank_marketing = fetch_ucirepo(id=222)\n",
        "\n",
        "# data (as pandas dataframes)\n",
        "X = bank_marketing.data.features\n",
        "y = bank_marketing.data.targets\n"
      ]
    },
    {
      "cell_type": "markdown",
      "source": [
        "## Exploratory Data Analysis (EDA)"
      ],
      "metadata": {
        "id": "gZqBWZNoR8tT"
      }
    },
    {
      "cell_type": "markdown",
      "source": [
        "### Pregunta 1.0\n",
        "\n",
        "Concatene `X` e `y` en un dataframe consolidado.\n",
        "\n",
        "Muestre las primeras cinco observaciones en el dataframe consolidado. Despliegue información sobre el tipo de variable de cada una de las columnas del dataframe y despliegue estadísticas descriptivas de las variables según su tipo."
      ],
      "metadata": {
        "id": "xno35JpIM78W"
      }
    },
    {
      "cell_type": "code",
      "source": [
        "#Concatenar dataframes\n",
        "import pandas as pd\n",
        "df = pd.concat([X, y], axis=1)\n",
        "#Mostrar las primeras 5 observaciones\n",
        "df.head()\n",
        "#Informacion tipo de variables\n",
        "df.info()\n",
        "#Estadísticas descriptivas de las variables por tipo int\n",
        "df.describe()\n",
        "#Por tipo object\n",
        "df.describe(exclude = \"int64\")"
      ],
      "metadata": {
        "id": "SOkOwosvmRGG",
        "colab": {
          "base_uri": "https://localhost:8080/",
          "height": 591
        },
        "outputId": "f7a51a21-931f-4846-8744-793bfa707737"
      },
      "execution_count": 11,
      "outputs": [
        {
          "output_type": "stream",
          "name": "stdout",
          "text": [
            "<class 'pandas.core.frame.DataFrame'>\n",
            "RangeIndex: 45211 entries, 0 to 45210\n",
            "Data columns (total 17 columns):\n",
            " #   Column       Non-Null Count  Dtype \n",
            "---  ------       --------------  ----- \n",
            " 0   age          45211 non-null  int64 \n",
            " 1   job          44923 non-null  object\n",
            " 2   marital      45211 non-null  object\n",
            " 3   education    43354 non-null  object\n",
            " 4   default      45211 non-null  object\n",
            " 5   balance      45211 non-null  int64 \n",
            " 6   housing      45211 non-null  object\n",
            " 7   loan         45211 non-null  object\n",
            " 8   contact      32191 non-null  object\n",
            " 9   day_of_week  45211 non-null  int64 \n",
            " 10  month        45211 non-null  object\n",
            " 11  duration     45211 non-null  int64 \n",
            " 12  campaign     45211 non-null  int64 \n",
            " 13  pdays        45211 non-null  int64 \n",
            " 14  previous     45211 non-null  int64 \n",
            " 15  poutcome     8252 non-null   object\n",
            " 16  y            45211 non-null  object\n",
            "dtypes: int64(7), object(10)\n",
            "memory usage: 5.9+ MB\n"
          ]
        },
        {
          "output_type": "execute_result",
          "data": {
            "text/plain": [
              "                job  marital  education default housing   loan   contact  \\\n",
              "count         44923    45211      43354   45211   45211  45211     32191   \n",
              "unique           11        3          3       2       2      2         2   \n",
              "top     blue-collar  married  secondary      no     yes     no  cellular   \n",
              "freq           9732    27214      23202   44396   25130  37967     29285   \n",
              "\n",
              "        month poutcome      y  \n",
              "count   45211     8252  45211  \n",
              "unique     12        3      2  \n",
              "top       may  failure     no  \n",
              "freq    13766     4901  39922  "
            ],
            "text/html": [
              "\n",
              "  <div id=\"df-d1b33ee5-affd-4a6e-adbd-0bc6879102d0\" class=\"colab-df-container\">\n",
              "    <div>\n",
              "<style scoped>\n",
              "    .dataframe tbody tr th:only-of-type {\n",
              "        vertical-align: middle;\n",
              "    }\n",
              "\n",
              "    .dataframe tbody tr th {\n",
              "        vertical-align: top;\n",
              "    }\n",
              "\n",
              "    .dataframe thead th {\n",
              "        text-align: right;\n",
              "    }\n",
              "</style>\n",
              "<table border=\"1\" class=\"dataframe\">\n",
              "  <thead>\n",
              "    <tr style=\"text-align: right;\">\n",
              "      <th></th>\n",
              "      <th>job</th>\n",
              "      <th>marital</th>\n",
              "      <th>education</th>\n",
              "      <th>default</th>\n",
              "      <th>housing</th>\n",
              "      <th>loan</th>\n",
              "      <th>contact</th>\n",
              "      <th>month</th>\n",
              "      <th>poutcome</th>\n",
              "      <th>y</th>\n",
              "    </tr>\n",
              "  </thead>\n",
              "  <tbody>\n",
              "    <tr>\n",
              "      <th>count</th>\n",
              "      <td>44923</td>\n",
              "      <td>45211</td>\n",
              "      <td>43354</td>\n",
              "      <td>45211</td>\n",
              "      <td>45211</td>\n",
              "      <td>45211</td>\n",
              "      <td>32191</td>\n",
              "      <td>45211</td>\n",
              "      <td>8252</td>\n",
              "      <td>45211</td>\n",
              "    </tr>\n",
              "    <tr>\n",
              "      <th>unique</th>\n",
              "      <td>11</td>\n",
              "      <td>3</td>\n",
              "      <td>3</td>\n",
              "      <td>2</td>\n",
              "      <td>2</td>\n",
              "      <td>2</td>\n",
              "      <td>2</td>\n",
              "      <td>12</td>\n",
              "      <td>3</td>\n",
              "      <td>2</td>\n",
              "    </tr>\n",
              "    <tr>\n",
              "      <th>top</th>\n",
              "      <td>blue-collar</td>\n",
              "      <td>married</td>\n",
              "      <td>secondary</td>\n",
              "      <td>no</td>\n",
              "      <td>yes</td>\n",
              "      <td>no</td>\n",
              "      <td>cellular</td>\n",
              "      <td>may</td>\n",
              "      <td>failure</td>\n",
              "      <td>no</td>\n",
              "    </tr>\n",
              "    <tr>\n",
              "      <th>freq</th>\n",
              "      <td>9732</td>\n",
              "      <td>27214</td>\n",
              "      <td>23202</td>\n",
              "      <td>44396</td>\n",
              "      <td>25130</td>\n",
              "      <td>37967</td>\n",
              "      <td>29285</td>\n",
              "      <td>13766</td>\n",
              "      <td>4901</td>\n",
              "      <td>39922</td>\n",
              "    </tr>\n",
              "  </tbody>\n",
              "</table>\n",
              "</div>\n",
              "    <div class=\"colab-df-buttons\">\n",
              "\n",
              "  <div class=\"colab-df-container\">\n",
              "    <button class=\"colab-df-convert\" onclick=\"convertToInteractive('df-d1b33ee5-affd-4a6e-adbd-0bc6879102d0')\"\n",
              "            title=\"Convert this dataframe to an interactive table.\"\n",
              "            style=\"display:none;\">\n",
              "\n",
              "  <svg xmlns=\"http://www.w3.org/2000/svg\" height=\"24px\" viewBox=\"0 -960 960 960\">\n",
              "    <path d=\"M120-120v-720h720v720H120Zm60-500h600v-160H180v160Zm220 220h160v-160H400v160Zm0 220h160v-160H400v160ZM180-400h160v-160H180v160Zm440 0h160v-160H620v160ZM180-180h160v-160H180v160Zm440 0h160v-160H620v160Z\"/>\n",
              "  </svg>\n",
              "    </button>\n",
              "\n",
              "  <style>\n",
              "    .colab-df-container {\n",
              "      display:flex;\n",
              "      gap: 12px;\n",
              "    }\n",
              "\n",
              "    .colab-df-convert {\n",
              "      background-color: #E8F0FE;\n",
              "      border: none;\n",
              "      border-radius: 50%;\n",
              "      cursor: pointer;\n",
              "      display: none;\n",
              "      fill: #1967D2;\n",
              "      height: 32px;\n",
              "      padding: 0 0 0 0;\n",
              "      width: 32px;\n",
              "    }\n",
              "\n",
              "    .colab-df-convert:hover {\n",
              "      background-color: #E2EBFA;\n",
              "      box-shadow: 0px 1px 2px rgba(60, 64, 67, 0.3), 0px 1px 3px 1px rgba(60, 64, 67, 0.15);\n",
              "      fill: #174EA6;\n",
              "    }\n",
              "\n",
              "    .colab-df-buttons div {\n",
              "      margin-bottom: 4px;\n",
              "    }\n",
              "\n",
              "    [theme=dark] .colab-df-convert {\n",
              "      background-color: #3B4455;\n",
              "      fill: #D2E3FC;\n",
              "    }\n",
              "\n",
              "    [theme=dark] .colab-df-convert:hover {\n",
              "      background-color: #434B5C;\n",
              "      box-shadow: 0px 1px 3px 1px rgba(0, 0, 0, 0.15);\n",
              "      filter: drop-shadow(0px 1px 2px rgba(0, 0, 0, 0.3));\n",
              "      fill: #FFFFFF;\n",
              "    }\n",
              "  </style>\n",
              "\n",
              "    <script>\n",
              "      const buttonEl =\n",
              "        document.querySelector('#df-d1b33ee5-affd-4a6e-adbd-0bc6879102d0 button.colab-df-convert');\n",
              "      buttonEl.style.display =\n",
              "        google.colab.kernel.accessAllowed ? 'block' : 'none';\n",
              "\n",
              "      async function convertToInteractive(key) {\n",
              "        const element = document.querySelector('#df-d1b33ee5-affd-4a6e-adbd-0bc6879102d0');\n",
              "        const dataTable =\n",
              "          await google.colab.kernel.invokeFunction('convertToInteractive',\n",
              "                                                    [key], {});\n",
              "        if (!dataTable) return;\n",
              "\n",
              "        const docLinkHtml = 'Like what you see? Visit the ' +\n",
              "          '<a target=\"_blank\" href=https://colab.research.google.com/notebooks/data_table.ipynb>data table notebook</a>'\n",
              "          + ' to learn more about interactive tables.';\n",
              "        element.innerHTML = '';\n",
              "        dataTable['output_type'] = 'display_data';\n",
              "        await google.colab.output.renderOutput(dataTable, element);\n",
              "        const docLink = document.createElement('div');\n",
              "        docLink.innerHTML = docLinkHtml;\n",
              "        element.appendChild(docLink);\n",
              "      }\n",
              "    </script>\n",
              "  </div>\n",
              "\n",
              "\n",
              "    <div id=\"df-748a87ec-4401-450c-a34a-d2ba509d8dab\">\n",
              "      <button class=\"colab-df-quickchart\" onclick=\"quickchart('df-748a87ec-4401-450c-a34a-d2ba509d8dab')\"\n",
              "                title=\"Suggest charts\"\n",
              "                style=\"display:none;\">\n",
              "\n",
              "<svg xmlns=\"http://www.w3.org/2000/svg\" height=\"24px\"viewBox=\"0 0 24 24\"\n",
              "     width=\"24px\">\n",
              "    <g>\n",
              "        <path d=\"M19 3H5c-1.1 0-2 .9-2 2v14c0 1.1.9 2 2 2h14c1.1 0 2-.9 2-2V5c0-1.1-.9-2-2-2zM9 17H7v-7h2v7zm4 0h-2V7h2v10zm4 0h-2v-4h2v4z\"/>\n",
              "    </g>\n",
              "</svg>\n",
              "      </button>\n",
              "\n",
              "<style>\n",
              "  .colab-df-quickchart {\n",
              "      --bg-color: #E8F0FE;\n",
              "      --fill-color: #1967D2;\n",
              "      --hover-bg-color: #E2EBFA;\n",
              "      --hover-fill-color: #174EA6;\n",
              "      --disabled-fill-color: #AAA;\n",
              "      --disabled-bg-color: #DDD;\n",
              "  }\n",
              "\n",
              "  [theme=dark] .colab-df-quickchart {\n",
              "      --bg-color: #3B4455;\n",
              "      --fill-color: #D2E3FC;\n",
              "      --hover-bg-color: #434B5C;\n",
              "      --hover-fill-color: #FFFFFF;\n",
              "      --disabled-bg-color: #3B4455;\n",
              "      --disabled-fill-color: #666;\n",
              "  }\n",
              "\n",
              "  .colab-df-quickchart {\n",
              "    background-color: var(--bg-color);\n",
              "    border: none;\n",
              "    border-radius: 50%;\n",
              "    cursor: pointer;\n",
              "    display: none;\n",
              "    fill: var(--fill-color);\n",
              "    height: 32px;\n",
              "    padding: 0;\n",
              "    width: 32px;\n",
              "  }\n",
              "\n",
              "  .colab-df-quickchart:hover {\n",
              "    background-color: var(--hover-bg-color);\n",
              "    box-shadow: 0 1px 2px rgba(60, 64, 67, 0.3), 0 1px 3px 1px rgba(60, 64, 67, 0.15);\n",
              "    fill: var(--button-hover-fill-color);\n",
              "  }\n",
              "\n",
              "  .colab-df-quickchart-complete:disabled,\n",
              "  .colab-df-quickchart-complete:disabled:hover {\n",
              "    background-color: var(--disabled-bg-color);\n",
              "    fill: var(--disabled-fill-color);\n",
              "    box-shadow: none;\n",
              "  }\n",
              "\n",
              "  .colab-df-spinner {\n",
              "    border: 2px solid var(--fill-color);\n",
              "    border-color: transparent;\n",
              "    border-bottom-color: var(--fill-color);\n",
              "    animation:\n",
              "      spin 1s steps(1) infinite;\n",
              "  }\n",
              "\n",
              "  @keyframes spin {\n",
              "    0% {\n",
              "      border-color: transparent;\n",
              "      border-bottom-color: var(--fill-color);\n",
              "      border-left-color: var(--fill-color);\n",
              "    }\n",
              "    20% {\n",
              "      border-color: transparent;\n",
              "      border-left-color: var(--fill-color);\n",
              "      border-top-color: var(--fill-color);\n",
              "    }\n",
              "    30% {\n",
              "      border-color: transparent;\n",
              "      border-left-color: var(--fill-color);\n",
              "      border-top-color: var(--fill-color);\n",
              "      border-right-color: var(--fill-color);\n",
              "    }\n",
              "    40% {\n",
              "      border-color: transparent;\n",
              "      border-right-color: var(--fill-color);\n",
              "      border-top-color: var(--fill-color);\n",
              "    }\n",
              "    60% {\n",
              "      border-color: transparent;\n",
              "      border-right-color: var(--fill-color);\n",
              "    }\n",
              "    80% {\n",
              "      border-color: transparent;\n",
              "      border-right-color: var(--fill-color);\n",
              "      border-bottom-color: var(--fill-color);\n",
              "    }\n",
              "    90% {\n",
              "      border-color: transparent;\n",
              "      border-bottom-color: var(--fill-color);\n",
              "    }\n",
              "  }\n",
              "</style>\n",
              "\n",
              "      <script>\n",
              "        async function quickchart(key) {\n",
              "          const quickchartButtonEl =\n",
              "            document.querySelector('#' + key + ' button');\n",
              "          quickchartButtonEl.disabled = true;  // To prevent multiple clicks.\n",
              "          quickchartButtonEl.classList.add('colab-df-spinner');\n",
              "          try {\n",
              "            const charts = await google.colab.kernel.invokeFunction(\n",
              "                'suggestCharts', [key], {});\n",
              "          } catch (error) {\n",
              "            console.error('Error during call to suggestCharts:', error);\n",
              "          }\n",
              "          quickchartButtonEl.classList.remove('colab-df-spinner');\n",
              "          quickchartButtonEl.classList.add('colab-df-quickchart-complete');\n",
              "        }\n",
              "        (() => {\n",
              "          let quickchartButtonEl =\n",
              "            document.querySelector('#df-748a87ec-4401-450c-a34a-d2ba509d8dab button');\n",
              "          quickchartButtonEl.style.display =\n",
              "            google.colab.kernel.accessAllowed ? 'block' : 'none';\n",
              "        })();\n",
              "      </script>\n",
              "    </div>\n",
              "\n",
              "    </div>\n",
              "  </div>\n"
            ],
            "application/vnd.google.colaboratory.intrinsic+json": {
              "type": "dataframe",
              "summary": "{\n  \"name\": \"df\",\n  \"rows\": 4,\n  \"fields\": [\n    {\n      \"column\": \"job\",\n      \"properties\": {\n        \"dtype\": \"string\",\n        \"num_unique_values\": 4,\n        \"samples\": [\n          11,\n          \"9732\",\n          \"44923\"\n        ],\n        \"semantic_type\": \"\",\n        \"description\": \"\"\n      }\n    },\n    {\n      \"column\": \"marital\",\n      \"properties\": {\n        \"dtype\": \"string\",\n        \"num_unique_values\": 4,\n        \"samples\": [\n          3,\n          \"27214\",\n          \"45211\"\n        ],\n        \"semantic_type\": \"\",\n        \"description\": \"\"\n      }\n    },\n    {\n      \"column\": \"education\",\n      \"properties\": {\n        \"dtype\": \"string\",\n        \"num_unique_values\": 4,\n        \"samples\": [\n          3,\n          \"23202\",\n          \"43354\"\n        ],\n        \"semantic_type\": \"\",\n        \"description\": \"\"\n      }\n    },\n    {\n      \"column\": \"default\",\n      \"properties\": {\n        \"dtype\": \"string\",\n        \"num_unique_values\": 4,\n        \"samples\": [\n          2,\n          \"44396\",\n          \"45211\"\n        ],\n        \"semantic_type\": \"\",\n        \"description\": \"\"\n      }\n    },\n    {\n      \"column\": \"housing\",\n      \"properties\": {\n        \"dtype\": \"string\",\n        \"num_unique_values\": 4,\n        \"samples\": [\n          2,\n          \"25130\",\n          \"45211\"\n        ],\n        \"semantic_type\": \"\",\n        \"description\": \"\"\n      }\n    },\n    {\n      \"column\": \"loan\",\n      \"properties\": {\n        \"dtype\": \"string\",\n        \"num_unique_values\": 4,\n        \"samples\": [\n          2,\n          \"37967\",\n          \"45211\"\n        ],\n        \"semantic_type\": \"\",\n        \"description\": \"\"\n      }\n    },\n    {\n      \"column\": \"contact\",\n      \"properties\": {\n        \"dtype\": \"string\",\n        \"num_unique_values\": 4,\n        \"samples\": [\n          2,\n          \"29285\",\n          \"32191\"\n        ],\n        \"semantic_type\": \"\",\n        \"description\": \"\"\n      }\n    },\n    {\n      \"column\": \"month\",\n      \"properties\": {\n        \"dtype\": \"string\",\n        \"num_unique_values\": 4,\n        \"samples\": [\n          12,\n          \"13766\",\n          \"45211\"\n        ],\n        \"semantic_type\": \"\",\n        \"description\": \"\"\n      }\n    },\n    {\n      \"column\": \"poutcome\",\n      \"properties\": {\n        \"dtype\": \"string\",\n        \"num_unique_values\": 4,\n        \"samples\": [\n          3,\n          \"4901\",\n          \"8252\"\n        ],\n        \"semantic_type\": \"\",\n        \"description\": \"\"\n      }\n    },\n    {\n      \"column\": \"y\",\n      \"properties\": {\n        \"dtype\": \"string\",\n        \"num_unique_values\": 4,\n        \"samples\": [\n          2,\n          \"39922\",\n          \"45211\"\n        ],\n        \"semantic_type\": \"\",\n        \"description\": \"\"\n      }\n    }\n  ]\n}"
            }
          },
          "metadata": {},
          "execution_count": 11
        }
      ]
    },
    {
      "cell_type": "markdown",
      "source": [
        "### Pregunta 1.1\n",
        "\n",
        "Identifique las columnas que presentan _missing values_ e indique el número de _missing values_ que poseen.\n",
        "\n",
        "Impute los valores nulos con el método que estime conveniente, justificando su decisión."
      ],
      "metadata": {
        "id": "DK99OFP2KUss"
      }
    },
    {
      "cell_type": "code",
      "source": [
        "df.isnull().sum()\n",
        "\n",
        "#Imputar valores NaN. Para variables categóricas se ocupará la moda\n",
        "df['job'] = df['job'].fillna(df['job'].mode()[0])\n",
        "df['education'] = df['education'].fillna(df['education'].mode()[0])\n",
        "df['contact'] = df['contact'].fillna(df['contact'].mode()[0])\n",
        "df['poutcome'] = df['poutcome'].fillna(df['poutcome'].mode()[0])"
      ],
      "metadata": {
        "id": "ZWzxbVxUmmhy"
      },
      "execution_count": 16,
      "outputs": []
    },
    {
      "cell_type": "markdown",
      "source": [
        "\n",
        "\n",
        "\n",
        "---\n",
        "\n",
        "\n",
        "Variables que presentan valores nulos: \"Job\" con 288, \"education\" con 1857, \"contact\" con 13020 y \"poutcome\" con 36959\n",
        "Para la imputación utilizaré la moda en las variables categoricas, pues de esta forma aproximamos los resultados al promedio o lo que se suele verse en general en los datos\n",
        "\n",
        "\n",
        "---"
      ],
      "metadata": {
        "id": "-XDS7z9vRuln"
      }
    },
    {
      "cell_type": "markdown",
      "source": [
        "### Pregunta 1.2\n",
        "\n",
        "\n",
        "Genere histogramas de las variables categóricas desagregando por la variable objetivo de interés. Interprete las relaciones que observa.\n",
        "\n",
        "Responda: ¿Cuáles creen que son las variables categóricas más relevantes a la hora de determinar si el individuo hará un depósito?"
      ],
      "metadata": {
        "id": "indzFEcYKAFm"
      }
    },
    {
      "cell_type": "code",
      "source": [
        "#Histogramas de las variables categóricas con la variable de interes y. Libreria seaborn es necesario\n",
        "import seaborn as sns\n",
        "sns.histplot(data=df, x=\"y\", hue=\"job\", multiple= \"dodge\", shrink=.8)"
      ],
      "metadata": {
        "id": "m_jdPM2tmomq",
        "colab": {
          "base_uri": "https://localhost:8080/",
          "height": 466
        },
        "outputId": "14c2d99a-d4c9-46e6-9c06-73a2fe59fdf6"
      },
      "execution_count": 35,
      "outputs": [
        {
          "output_type": "execute_result",
          "data": {
            "text/plain": [
              "<Axes: xlabel='y', ylabel='Count'>"
            ]
          },
          "metadata": {},
          "execution_count": 35
        },
        {
          "output_type": "display_data",
          "data": {
            "text/plain": [
              "<Figure size 640x480 with 1 Axes>"
            ],
            "image/png": "[encoded data removed]"
          },
          "metadata": {}
        }
      ]
    },
    {
      "cell_type": "code",
      "source": [
        "sns.histplot(data=df, x=\"y\", hue=\"marital\", multiple= \"dodge\", shrink=.8)"
      ],
      "metadata": {
        "colab": {
          "base_uri": "https://localhost:8080/",
          "height": 466
        },
        "collapsed": true,
        "id": "BVZpp4PwsR_0",
        "outputId": "f561bc67-4912-4cb9-8aee-497826cff5e5"
      },
      "execution_count": 31,
      "outputs": [
        {
          "output_type": "execute_result",
          "data": {
            "text/plain": [
              "<Axes: xlabel='y', ylabel='Count'>"
            ]
          },
          "metadata": {},
          "execution_count": 31
        },
        {
          "output_type": "display_data",
          "data": {
            "text/plain": [
              "<Figure size 640x480 with 1 Axes>"
            ],
            "image/png": "[encoded data removed]"
          },
          "metadata": {}
        }
      ]
    },
    {
      "cell_type": "code",
      "source": [
        "sns.histplot(data=df, x=\"y\", hue=\"education\", multiple= \"dodge\", shrink=.8)"
      ],
      "metadata": {
        "colab": {
          "base_uri": "https://localhost:8080/",
          "height": 466
        },
        "id": "bO5Qt9PssWcN",
        "outputId": "8daa9598-2de2-4514-e63d-8af3c518e914"
      },
      "execution_count": 32,
      "outputs": [
        {
          "output_type": "execute_result",
          "data": {
            "text/plain": [
              "<Axes: xlabel='y', ylabel='Count'>"
            ]
          },
          "metadata": {},
          "execution_count": 32
        },
        {
          "output_type": "display_data",
          "data": {
            "text/plain": [
              "<Figure size 640x480 with 1 Axes>"
            ],
            "image/png": "[encoded data removed]"
          },
          "metadata": {}
        }
      ]
    },
    {
      "cell_type": "code",
      "source": [
        "sns.histplot(data=df, x=\"y\", hue=\"contact\", multiple= \"dodge\", shrink=.8)"
      ],
      "metadata": {
        "colab": {
          "base_uri": "https://localhost:8080/",
          "height": 466
        },
        "collapsed": true,
        "id": "7jmO8pNoscLU",
        "outputId": "7019fcf1-b607-4fa2-9a1b-23b5bd5818b6"
      },
      "execution_count": 33,
      "outputs": [
        {
          "output_type": "execute_result",
          "data": {
            "text/plain": [
              "<Axes: xlabel='y', ylabel='Count'>"
            ]
          },
          "metadata": {},
          "execution_count": 33
        },
        {
          "output_type": "display_data",
          "data": {
            "text/plain": [
              "<Figure size 640x480 with 1 Axes>"
            ],
            "image/png": "[encoded data removed]"
          },
          "metadata": {}
        }
      ]
    },
    {
      "cell_type": "code",
      "source": [
        "sns.histplot(data=df, x=\"y\", hue=\"poutcome\", multiple= \"dodge\", shrink=.8)"
      ],
      "metadata": {
        "colab": {
          "base_uri": "https://localhost:8080/",
          "height": 466
        },
        "collapsed": true,
        "id": "AHHo-lcfsfJc",
        "outputId": "21f194a7-b895-4422-cfd5-cf7472cd77e5"
      },
      "execution_count": 34,
      "outputs": [
        {
          "output_type": "execute_result",
          "data": {
            "text/plain": [
              "<Axes: xlabel='y', ylabel='Count'>"
            ]
          },
          "metadata": {},
          "execution_count": 34
        },
        {
          "output_type": "display_data",
          "data": {
            "text/plain": [
              "<Figure size 640x480 with 1 Axes>"
            ],
            "image/png": "[encoded data removed]"
          },
          "metadata": {}
        }
      ]
    },
    {
      "cell_type": "markdown",
      "source": [
        "\n",
        "\n",
        "\n",
        "---\n",
        "\n",
        "\n",
        "Se observa que la variable más relevante a la hora de predecir si una persona realizará un deposito es la educación y su trabajo, pues los resultados varían más si es que una persona trabaja en \"managment\" u en otro trabaj. Lo mismo se observa con education, donde las personas con nivel de educacion \"secondary\" tiene mas taza de realizar depositos\n",
        "\n",
        "\n",
        "---"
      ],
      "metadata": {
        "id": "NmETbCcCRsbP"
      }
    },
    {
      "cell_type": "markdown",
      "source": [
        "### Pregunta 1.3\n",
        "\n",
        "Identifique _outliers_ entre las variables numéricas del dataset. Además, impute estas observaciones si usted lo considera necesario. Justifique su decisión."
      ],
      "metadata": {
        "id": "jD0SNKf2JgUl"
      }
    },
    {
      "cell_type": "code",
      "source": [],
      "metadata": {
        "id": "2p7tjj6lmpqz"
      },
      "execution_count": null,
      "outputs": []
    },
    {
      "cell_type": "markdown",
      "source": [
        "\n",
        "\n",
        "\n",
        "---\n",
        "\n",
        "\n",
        "*Escriba* su respuesta en esta celda...\n",
        "\n",
        "\n",
        "---"
      ],
      "metadata": {
        "id": "q9cmbj9IR-SH"
      }
    },
    {
      "cell_type": "markdown",
      "source": [
        "## Feature Engineering"
      ],
      "metadata": {
        "id": "ZcIJt6BsBKLJ"
      }
    },
    {
      "cell_type": "markdown",
      "source": [
        "### Pregunta 1.4\n",
        "\n",
        " Cree un _pipeline_ de preprocesamiento con las siguientes transformaciones a las columnas correspondientes:\n",
        "\n",
        "*   **Columnas Numéricas** : Aplique un `StandardScaler` para estandarizar estas variables.\n",
        "*   **Columnas Categóricas No Binarias** : Aplique `OneHotEncoder` para crear variables dummy. Asegúrese de manejar posibles categorías desconocidas durante la transformación.\n",
        "*   **Columnas a Eliminar** : Elimine columnas que dejan de ser relavantes luego de las trasformaciones.\n",
        "*  **Columnas Dummies MultiNivel** : cree columnas dummies para las variables multi categoricas (tomando codificadas a 0s y 1s =, para su respctiva categoria)\n",
        "*  **Columnas Label Encoding MultiNivel** : Dentro de las columnas multinivel hay 2 columnas que presentan un orden natural. e.g. en la columna 'month' tenemos que 'jan' < 'feb' < 'dec'. Aplique en la columna 'month' y otra columna que deberá determinar usted un label encoder que capture ese ordenamiento natural, luego normalice con un minmax scaler para que las columnas varien entre 0 y 1.\n",
        "\n",
        "\n",
        "Una vez creado el pipeline, aplíquelo a su conjunto de features (`X`). Muestre la forma (_shape_) del dataset original y del dataset procesado para verificar los cambios. ¿Cuántas nuevas columnas hay?\n",
        "\n",
        "Adicionalmente, elimine del análisis la variable `day_of_week`. Si considera necesario realizar transformaciones adicionales a las variables, realicelas en este punto.\n",
        "\n"
      ],
      "metadata": {
        "id": "eyoXfMGWtCKL"
      }
    },
    {
      "cell_type": "code",
      "source": [],
      "metadata": {
        "id": "jpG6TxQJnFkV"
      },
      "execution_count": null,
      "outputs": []
    },
    {
      "cell_type": "markdown",
      "source": [
        "## Modelos"
      ],
      "metadata": {
        "id": "8EwI7uxom8nn"
      }
    },
    {
      "cell_type": "markdown",
      "source": [
        "En esta sección aplicaremos los algoritmos de clasificación vistos en el curso. Específicamente, compararemos el rendimiento de los siguientes modelos:\n",
        "\n",
        "*   _Decision Tree Classifier_\n",
        "*   _Random Forest Classifier_\n",
        "*   _XGBoost Classifier_\n",
        "*   _Naïve Bayes_\n",
        "\n"
      ],
      "metadata": {
        "id": "ulQ-zNFrJIBB"
      }
    },
    {
      "cell_type": "markdown",
      "source": [
        "### Pregunta 1.5\n",
        "\n",
        "Divida el conjunto de datos en conjuntos de entrenamiento y de prueba. Analice la distribución de la variable objetivo en ambos conjuntos para determinar si el conjunto de datos está balanceado o no.\n",
        "\n",
        "En caso de que el conjunto de datos no esté balanceado, asegúrese de que la división de _train_-_test_ respete el balance de las clases target para evitar que se genere un sesgo. Para esto, se recomienda leer la documentación oficial de la función `train_test_split()`: https://scikit-learn.org/stable/modules/generated/sklearn.model_selection.train_test_split.html.\n",
        "\n",
        "Use la semilla `random_state` = 123.\n"
      ],
      "metadata": {
        "id": "6OGw-SgYjQWY"
      }
    },
    {
      "cell_type": "code",
      "source": [],
      "metadata": {
        "id": "lyVrfsP4nM8w"
      },
      "execution_count": null,
      "outputs": []
    },
    {
      "cell_type": "markdown",
      "source": [
        "### Pregunta 1.6\n",
        "\n",
        "Entrene un árbol clasificador sin definir profundad máxima del árbol. Llamaremos a este, \"modelo no regularizado\".\n",
        "\n",
        "Asegúrese de que el modelo sea capaz de lidiar con potenciales desbalances. Para esto se recomienda leer la documentación oficial de la *clase* `DecisionTreeClassifier()` (parámetros de inicialización): https://scikit-learn.org/stable/modules/generated/sklearn.tree.DecisionTreeClassifier.html.\n",
        "\n",
        "\n",
        "Despliege el $F_1\\ Score$ del modelo sobre la base de entrenamiento. Luego, grafique una representación del árbol entrenado. ¿Qué puede decir sobre este modelo no regularizado?"
      ],
      "metadata": {
        "id": "tf1V8SxqXIta"
      }
    },
    {
      "cell_type": "code",
      "source": [],
      "metadata": {
        "id": "32kULv19nQQU"
      },
      "execution_count": null,
      "outputs": []
    },
    {
      "cell_type": "markdown",
      "source": [
        "\n",
        "\n",
        "\n",
        "---\n",
        "\n",
        "\n",
        "*Escriba* su respuesta en esta celda...\n",
        "\n",
        "\n",
        "---\n"
      ],
      "metadata": {
        "id": "BAMIFq5UqH2W"
      }
    },
    {
      "cell_type": "markdown",
      "source": [
        "### Pegunta 1.7\n",
        "\n",
        "En el contexto particular de una campaña de marketing, donde probablemente la mayoría de clientes no harán depósitos, es importante identificar correctamente tanto los clientes que harán depósitos (clase minoritaria), como los clientes que no harán depósitos.\n",
        "\n",
        "En el primer caso, falsos negativos implican un cliente peridido. En el segundo caso, falsos positivos implicarían un gasto de marketing innecesario en clientes que no son de interés. En este sentido, si clasificamos a todos los clientes como individuos que no harán depósitos, el _accuracy_ será muy alto, pero el costo económico será muy grande.\n",
        "\n",
        "Para penalizar tanto falsos positivos, como falsos negativos, a la vez que se busca maximizar los verdaderos positivos, nos enfocaremos en la métrica de _performance_ $F_1\\ Score$.\n",
        "\n",
        "Calcule el $F_1\\ Score$ de su árbol no regularizado con la muestra correcta. ¿Considera que es un buen valor? Comente."
      ],
      "metadata": {
        "id": "k_AX7wJDq3UZ"
      }
    },
    {
      "cell_type": "code",
      "source": [],
      "metadata": {
        "id": "smVSPni5nRi_"
      },
      "execution_count": null,
      "outputs": []
    },
    {
      "cell_type": "markdown",
      "source": [
        "\n",
        "\n",
        "\n",
        "---\n",
        "\n",
        "\n",
        "*Escriba* su respuesta en esta celda...\n",
        "\n",
        "\n",
        "---\n"
      ],
      "metadata": {
        "id": "OqTY4zudscvW"
      }
    },
    {
      "cell_type": "markdown",
      "source": [
        "### Pregunta 1.8\n",
        "\n",
        "Entrene un árbol clasificador con profundad máxima del árbol igual a 16. Llamaremos a este, \"modelo levemente regularizado\". Asegúrese de que el modelo sea capaz de lidiar con potenciales desbalances. Luego, despliege el $F_1\\ Score$ del modelo sobre la base de entrenamiento.\n",
        "\n",
        "Grafique una representación del árbol entrenado. ¿Qué puede decir sobre este modelo no regularizado?"
      ],
      "metadata": {
        "id": "AcswYuH7Xdg1"
      }
    },
    {
      "cell_type": "code",
      "source": [],
      "metadata": {
        "id": "JhJB3LWKnTMM"
      },
      "execution_count": null,
      "outputs": []
    },
    {
      "cell_type": "markdown",
      "source": [
        "\n",
        "\n",
        "\n",
        "---\n",
        "\n",
        "\n",
        "*Escriba* su respuesta en esta celda...\n",
        "\n",
        "\n",
        "---\n"
      ],
      "metadata": {
        "id": "igUoQFf0uSO6"
      }
    },
    {
      "cell_type": "markdown",
      "source": [
        "### Pregunta 1.9\n",
        "\n",
        "Entrene un árbol clasificador con profundad máxima del árbol igual a 8. Llamaremos a este, \"modelo regularizado\". Asegúrese de que el modelo sea capaz de lidiar con potenciales desbalances. Luego, despliege el $F_1\\ Score$ del modelo sobre la base de entrenamiento.\n",
        "\n",
        "Grafique una representación del árbol entrenado. ¿Qué puede decir sobre este modelo no regularizado?\n"
      ],
      "metadata": {
        "id": "qriu9tcnXg6u"
      }
    },
    {
      "cell_type": "code",
      "source": [],
      "metadata": {
        "id": "7QmyPe8znUqp"
      },
      "execution_count": null,
      "outputs": []
    },
    {
      "cell_type": "markdown",
      "source": [
        "\n",
        "\n",
        "\n",
        "---\n",
        "\n",
        "\n",
        "*Escriba* su respuesta en esta celda...\n",
        "\n",
        "\n",
        "---\n"
      ],
      "metadata": {
        "id": "T7cltnbzuUh3"
      }
    },
    {
      "cell_type": "markdown",
      "source": [
        "### Pregunta 1.10\n",
        "\n",
        "Entrene 20 árboles de clasificación. Cada uno de ellos debe estar entrenado fijando la profundidad máxima del árbol `max_depth` igual a $n \\in [1,20]$. Obtenga el $F_1\\ Score$ de cada árbol con la base de entrenamiento y la base de prueba.\n",
        "\n",
        "Gafique en una misma figura $F_1\\ Score$ de entrenamiento contra $n$ y $F_1\\ Score$ de prueba contra $n$ (Eje X = $n$). ¿Cuál parece ser el parámetro óptimo $n^*$ para el árbol? ¿Qué puede decir sobre el parámetro sobre _overfitting_ y generalización?"
      ],
      "metadata": {
        "id": "k9bcyzCaZffm"
      }
    },
    {
      "cell_type": "code",
      "source": [],
      "metadata": {
        "id": "CjoHit5KnWsv"
      },
      "execution_count": null,
      "outputs": []
    },
    {
      "cell_type": "markdown",
      "source": [
        "\n",
        "\n",
        "\n",
        "---\n",
        "\n",
        "\n",
        "*Escriba* su respuesta en esta celda...\n",
        "\n",
        "\n",
        "---\n"
      ],
      "metadata": {
        "id": "6E-Ky5A8v4IH"
      }
    },
    {
      "cell_type": "markdown",
      "source": [
        "### Pregunta 1.11\n",
        "\n",
        "En esta pregunta deberá entrenar _Random orest Classifier_ realizando un ejercicio previo de _hyperparameter tuning_.\n",
        "\n",
        "Realice _Cross Validation_ con un _folding_ con `K=5` y calcule $F_1\\ Score$ de todas las posibles combinaciones de los siguientes parámetros:\n",
        "\n",
        "- `n_estimators = {100, 1000}`\n",
        "- `max_depth = {10, 50, 100}`\n",
        "- `min_samples_leaf = {2, 4}`\n",
        "\n",
        "Determine la mejor combinación de parámetros y vuelva a entrenar su bosque con esta. Finalmente, reporte el $F_1\\ Score$ con la muestra de prueba.\n",
        "\n",
        "Cuando realice _Cross Validation_ y cuando entrene el modelo final, asegúrese de que el modelo sea capaz de lidiar con potenciales desbalances. Para esto se recomienda leer la documentación oficial de la *clase* `RandomForestClassifier()` (parámetros de inicialización): https://scikit-learn.org/stable/modules/generated/sklearn.ensemble.RandomForestClassifier.html.\n",
        "\n"
      ],
      "metadata": {
        "id": "agchEM5raz5v"
      }
    },
    {
      "cell_type": "code",
      "source": [],
      "metadata": {
        "id": "iC6DC3Dgncsi"
      },
      "execution_count": null,
      "outputs": []
    },
    {
      "cell_type": "markdown",
      "source": [
        "### Pregunta 1.12\n",
        "\n",
        "En esta pregunta deberá entrenar _XGBpost Classifier_ realizando un ejercicio previo de _hyperparameter tuning_.\n",
        "\n",
        "Repita el ejercicio de _Cross Validation_ anterior, pero está vez evaluando:\n",
        "\n",
        "- `n_estimators = {100, 1000}`\n",
        "- `max_depth = {5, 50, 100}`\n",
        "- `learning_rate = {0.05, 0.1, 0.5}`\n",
        "- `max_leaves= {2, 4, 10}`\n",
        "\n",
        "Determine la mejor combinación de parámetros y vuelva a entrenar su bosque con esta, reportando el $F_1\\ Score$ con la muestra de prueba.\n",
        "\n",
        "Asegúrese de que sus modelos sean capaces de lidiar con potenciales desbalances. Para esto se recomienda leer la documentación oficial de la *clase* `XGBClassifier()` (parámetros de inicialización): https://xgboost.readthedocs.io/en/latest/python/python_api.html.\n"
      ],
      "metadata": {
        "id": "2pDSE54mcNnt"
      }
    },
    {
      "cell_type": "code",
      "source": [],
      "metadata": {
        "id": "SvG3J1AQnbUO"
      },
      "execution_count": null,
      "outputs": []
    },
    {
      "cell_type": "markdown",
      "source": [
        "### Pregunta 1.13\n",
        "\n",
        "Entrene un modelo _Naïve Bayes_. Asegúrese de que el modelo sea capaz de lidiar con potenciales desbalances. Para esto se recomienda leer la documentación oficial de la *clase* `GaussianNB()` (parámetros de inicialización): https://scikit-learn.org/stable/modules/generated/sklearn.naive_bayes.GaussianNB.html.\n",
        "\n",
        "\n",
        "Despliege el $F_1\\ Score$ del modelo sobre la base de entrenamiento."
      ],
      "metadata": {
        "id": "g13HiQpFdA-V"
      }
    },
    {
      "cell_type": "code",
      "source": [],
      "metadata": {
        "id": "HkCforqvnfkg"
      },
      "execution_count": null,
      "outputs": []
    },
    {
      "cell_type": "markdown",
      "source": [
        "\n",
        "\n",
        "---\n",
        "\n"
      ],
      "metadata": {
        "id": "2JVF3ZyGS99s"
      }
    },
    {
      "cell_type": "markdown",
      "source": [
        "## Análisis Comparativo de Modelos de Clasificación\n"
      ],
      "metadata": {
        "id": "RuwabtbImhnz"
      }
    },
    {
      "cell_type": "markdown",
      "source": [
        "### Pregunta 1.14\n",
        "\n",
        "Evalúe y compare el desempeño de los modelos teniendo en cuenta la naturaleza del conjunto de datos. ¿Cómo afectó el desbalance a cada modelo? ¿Qué modelo manejó mejor el balance o desbalance de clases y cuáles son sus conclusiones generales sobre su rendimiento comparado?\n",
        "\n",
        "Para que la comparación sea clara, es útil indicar qué métricas de evaluación utilizo para comparar los modelos (por ejemplo, F1-score, precisión, recall, AUC, etc.)."
      ],
      "metadata": {
        "id": "9NAcUq5Onk6C"
      }
    },
    {
      "cell_type": "code",
      "source": [],
      "metadata": {
        "id": "PqKE6yd2nCxa"
      },
      "execution_count": null,
      "outputs": []
    },
    {
      "cell_type": "markdown",
      "source": [
        "\n",
        "\n",
        "\n",
        "---\n",
        "\n",
        "\n",
        "*Escriba* su respuesta en esta celda...\n",
        "\n",
        "\n",
        "---\n"
      ],
      "metadata": {
        "id": "t3GEwINDZqEp"
      }
    },
    {
      "cell_type": "markdown",
      "source": [
        "# KMeans & PCA\n",
        "\n",
        "La guerra comercial desatada levanta un montón de preguntas de interés en economía. Una de estas es: ¿Qué países sufrirán de forma similar las consecuencias de esta? ¿Quiénes serían ganadores? ¿Quienes serían perdedores?\n",
        "\n",
        "En esta parte exploraremos el aporte que los métodos de Clustering de Machine Learning pueden hacer a la respuesta de esta cuestión. Nos enfocaremos en variables relacionadas al comercio exterior para determinar similitud entre grupos de países. Más específicamente, en variables relacionadas a las exportaciones.\n",
        "\n",
        "Para esto, considere las siguientes variables que describen el perfil exportador de cada país:\n",
        "\n",
        "- GDP growth (annual %)\n",
        "- Agricultural raw materials exports (% of merchandise exports)\n",
        "- Computer, communications and other services (% of commercial service exports)\n",
        "- Exports of goods and services (% of GDP)\n",
        "- Food exports (% of merchandise exports)\n",
        "- Fuel exports (% of merchandise exports)\n",
        "- High-technology exports (% of manufactured exports)\n",
        "- ICT service exports (% of service exports, BoP)\n",
        "- Insurance and financial services (% of service exports, BoP)\n",
        "- International tourism, receipts (% of total exports)\n",
        "- Manufactures exports (% of merchandise exports)\n",
        "- Merchandise exports to high-income economies (% of total merchandise exports)\n",
        "- Merchandise exports to low- and middle-income economies in Europe & Central Asia (% of total merchandise exports)\n",
        "- Ores and metals exports (% of merchandise exports)\n",
        "- Taxes on exports (% of tax revenue)\n",
        "- Transport services (% of commercial service exports)\n",
        "\n",
        "\n",
        "La idea será determinar similitud entre países y las variables qué son más relevantes a la hora de determinarla.\n",
        "\n",
        "Debido a que 2023 es el año reciente con una mayor riqueza de datos, y debido a que nos interesan cambios respecto al _status quo_ en el contexto actual, trabajaremos con datos sólo de aquel año."
      ],
      "metadata": {
        "id": "b0fVGE4KKrOp"
      }
    },
    {
      "cell_type": "markdown",
      "source": [
        "Database Source: World bank & Trade Analysis Information System.\n",
        "\n"
      ],
      "metadata": {
        "id": "liNZQhDaaAeb"
      }
    },
    {
      "cell_type": "markdown",
      "source": [
        "### Pregunta 2.0\n",
        "\n",
        "Cargue la base de datos disponible en el siguiente link: https://raw.githubusercontent.com/olherreragz/EAE3709-2025-1/refs/heads/main/T2_data/Data.cs.\n",
        "\n",
        "En el siguiente link podrá encontrar información adicional sobre el _dataset_ por si lo llega a necesitar: https://github.com/olherreragz/EAE3709-2025-1/blob/main/T2_data/Series_Metadata.csv.\n",
        "\n",
        "Elimine las columnas `\"Series Code\"` y `\"Country Code\"`. Luego, transforme su _dataframe_ de formato _Long_ a _Wide_. Su _dataframe_ final deberá contener una columna que indique el nombre del país y columnas que indiquen la medida de exportación correspondiente:\n",
        "\n",
        "`<Country>, <SeriesName1>, <SeriesName2> ....`\n",
        "\n",
        "\n",
        "\n",
        "![Long to Wide Format](https://tavareshugo.github.io/r-intro-tidyverse-gapminder/fig/07-data_shapes.png)\n",
        "\n",
        "\n"
      ],
      "metadata": {
        "id": "w-wV02TUaEPl"
      }
    },
    {
      "cell_type": "code",
      "source": [],
      "metadata": {
        "id": "2aDqXfqMq7kb"
      },
      "execution_count": null,
      "outputs": []
    },
    {
      "cell_type": "markdown",
      "source": [
        "### Pregunta 2.1\n",
        "\n",
        "Debido a que la pregunta de interés es sobre identificación de grupos de países, elime filas donde `Country Name` sea igual a cualquiera de los siguientes valores:\n",
        "\n",
        "- \"Africa Eastern and Southern\"  \n",
        "- \"Africa Western and Central\"  \n",
        "- \"Arab World\"  \n",
        "- \"Caribbean small states\"  \n",
        "- \"Central Europe and the Baltics\"  \n",
        "- \"Early-demographic dividend\"  \n",
        "- \"East Asia & Pacific\"  \n",
        "- \"East Asia & Pacific (IDA & IBRD countries)\"  \n",
        "- \"East Asia & Pacific (excluding high income)\"  \n",
        "- \"Euro area\"  \n",
        "- \"Europe & Central Asia\"  \n",
        "- \"Europe & Central Asia (IDA & IBRD countries)\"  \n",
        "- \"Europe & Central Asia (excluding high income)\"  \n",
        "- \"European Union\"  \n",
        "- \"Fragile and conflict affected situations\"  \n",
        "- \"Heavily indebted poor countries (HIPC)\"  \n",
        "- \"High income\"  \n",
        "- \"IBRD only\"  \n",
        "- \"IDA & IBRD total\"  \n",
        "- \"IDA blend\"  \n",
        "- \"IDA only\"  \n",
        "- \"IDA total\"  \n",
        "- \"Late-demographic dividend\"  \n",
        "- \"Latin America & Caribbean\"  \n",
        "- \"Latin America & Caribbean (excluding high income)\"  \n",
        "- \"Latin America & the Caribbean (IDA & IBRD countries)\"  \n",
        "- \"Least developed countries: UN classification\"  \n",
        "- \"Low & middle income\"  \n",
        "- \"Low income\"  \n",
        "- \"Lower middle income\"  \n",
        "- \"Middle East & North Africa\"  \n",
        "- \"Middle East & North Africa (IDA & IBRD countries)\"  \n",
        "- \"Middle East & North Africa (excluding high income)\"  \n",
        "- \"Middle income\"  \n",
        "- \"North America\"  \n",
        "- \"Not classified\"  \n",
        "- \"OECD members\"  \n",
        "- \"Other small states\"  \n",
        "- \"Pacific island small states\"  \n",
        "- \"Post-demographic dividend\"  \n",
        "- \"Pre-demographic dividend\"  \n",
        "- \"Small states\"  \n",
        "- \"South Asia\"  \n",
        "- \"South Asia (IDA & IBRD)\"  \n",
        "- \"Sub-Saharan Africa\"  \n",
        "- \"Sub-Saharan Africa (IDA & IBRD countries)\"  \n",
        "- \"Sub-Saharan Africa (excluding high income)\"  \n",
        "- \"Upper middle income\"  \n",
        "- \"World\"\n",
        "\n",
        "\n"
      ],
      "metadata": {
        "id": "1Qh41mXqbU2j"
      }
    },
    {
      "cell_type": "code",
      "source": [],
      "metadata": {
        "id": "3s_ZAF_snmCI"
      },
      "execution_count": null,
      "outputs": []
    },
    {
      "cell_type": "markdown",
      "source": [
        "### Pregunta 2.2\n",
        "\n",
        "Reemplace todos los valores `\"..\"` por `NA`. Luego, transforme las columnas a variables numéricas y despliegue estadísticas descriptivas.\n"
      ],
      "metadata": {
        "id": "ofrLMQgZbnU-"
      }
    },
    {
      "cell_type": "code",
      "source": [],
      "metadata": {
        "id": "H4CthDucnoKJ"
      },
      "execution_count": null,
      "outputs": []
    },
    {
      "cell_type": "markdown",
      "source": [
        "### Pregunta 2.3\n",
        "\n",
        "Grafique la distribución empírica de todas las variables numéricas del dataset. Comente sobre cada una de ellas."
      ],
      "metadata": {
        "id": "0ZA1-qSlb9QR"
      }
    },
    {
      "cell_type": "code",
      "source": [],
      "metadata": {
        "id": "6VFd6S1bnpSA"
      },
      "execution_count": null,
      "outputs": []
    },
    {
      "cell_type": "markdown",
      "source": [
        "\n",
        "\n",
        "\n",
        "---\n",
        "\n",
        "\n",
        "*Escriba* su respuesta en esta celda...\n",
        "\n",
        "\n",
        "---\n"
      ],
      "metadata": {
        "id": "zx1BvF5mfFzl"
      }
    },
    {
      "cell_type": "markdown",
      "source": [
        "## Missing Values"
      ],
      "metadata": {
        "id": "YTHSDT2ccQcc"
      }
    },
    {
      "cell_type": "markdown",
      "source": [
        "### Pregunta 2.4\n",
        "\n",
        "Realice análisis de valores vacíos y tratamiento de estos. Se premiará mantener el mayor número de observaciones posibles bajo criterios razonables. Luego de esta pregunta no deben quedar nulos en el _dataframe_ a utilizar.\n"
      ],
      "metadata": {
        "id": "cI_AR-AacScC"
      }
    },
    {
      "cell_type": "code",
      "source": [],
      "metadata": {
        "id": "9fHxElRrnu07"
      },
      "execution_count": null,
      "outputs": []
    },
    {
      "cell_type": "markdown",
      "source": [
        "## Outliers"
      ],
      "metadata": {
        "id": "iUgaRkuEdioX"
      }
    },
    {
      "cell_type": "markdown",
      "source": [
        "### Pregunta 2.5\n",
        "\n",
        "Realice análisis de datos _outliers_. De ser necesario aplique un procesamiento de outliers, de no ser necesario justifique.\n",
        "\n",
        "Se premiará el buen criterio fundamentado."
      ],
      "metadata": {
        "id": "nVe-WtBYdiUl"
      }
    },
    {
      "cell_type": "code",
      "source": [],
      "metadata": {
        "id": "X9-79aNWd7ka"
      },
      "execution_count": null,
      "outputs": []
    },
    {
      "cell_type": "markdown",
      "source": [
        "\n",
        "\n",
        "\n",
        "---\n",
        "\n",
        "\n",
        "*Escriba* su respuesta en esta celda...\n",
        "\n",
        "\n",
        "---\n"
      ],
      "metadata": {
        "id": "uB_EWD0xeBEI"
      }
    },
    {
      "cell_type": "markdown",
      "source": [
        "## Feature Engineering\n"
      ],
      "metadata": {
        "id": "4KtgZLAgeJ4S"
      }
    },
    {
      "cell_type": "markdown",
      "source": [
        "### Pregunta 2.6\n",
        "\n",
        "Realice _feature engineering_ de las variables numéricas (para luego entrenar un modelo _K-Means_ con estas). Realice los ajustes que estime conveniente, pero su tratamiento debe incluir por lo menos estandarización de las variables.\n",
        "\n",
        "Más adelante se le pedirá comentar sobre los resultados de sus modelos, por lo que considere que sus decisiones podrían condicionar futuras preguntas.\n",
        "\n"
      ],
      "metadata": {
        "id": "RHRrwHCjeOQt"
      }
    },
    {
      "cell_type": "code",
      "source": [],
      "metadata": {
        "id": "v19_TyO6n29C"
      },
      "execution_count": null,
      "outputs": []
    },
    {
      "cell_type": "markdown",
      "source": [
        "## K-Means"
      ],
      "metadata": {
        "id": "B2wxZhGQe2DR"
      }
    },
    {
      "cell_type": "markdown",
      "source": [
        "### Pregunta 2.7\n",
        "\n",
        "Considerando el dataframe completo (todas sus columnas atributos), determine el número óptimo de clusters mediante el \"Elbow method\". Considere un rango $k \\in [1, 30]$. Describa el comportamiento observado de la curva.\n",
        "\n"
      ],
      "metadata": {
        "id": "0phACBFse5FQ"
      }
    },
    {
      "cell_type": "code",
      "source": [],
      "metadata": {
        "id": "sIVhrILyn5gf"
      },
      "execution_count": null,
      "outputs": []
    },
    {
      "cell_type": "markdown",
      "source": [
        "\n",
        "\n",
        "\n",
        "---\n",
        "\n",
        "\n",
        "*Escriba* su respuesta en esta celda...\n",
        "\n",
        "\n",
        "---\n"
      ],
      "metadata": {
        "id": "uHY07twufOzi"
      }
    },
    {
      "cell_type": "markdown",
      "source": [
        "### Pregunta 2.8\n",
        "\n",
        "Un problema habitual del modelo _K-Means_ es que pierde desempeño a mayor dimensionalidad.\n",
        "\n",
        "En esta pregunta defina **por lo menos 5 combinaciones de columnas** (mínimo 2 columnas y máximo 4). Para cada combinación determine el número óptimo de clusters mediante el \"Elbow method\" considerando $k \\in [1, 30]$.\n",
        "\n",
        "Un posible enfoque para lo anterior es tomar un _approach_ estadístico y escoger variables que empíricamente muestran mayores indicios de poder diferenciador entre las observaciones. De todas formas, recuerde que la pregunta de interés es \"¿qué países se verán expuestos de forma similar a la guerra comercial?\". En este sentido, es altamente recomendable escoger variables con una mayor relación al fenómeno de la guerra comercial, ya que puede ser útil para discernir de qué forma podría verse expuesto cada grupo.\n"
      ],
      "metadata": {
        "id": "4yazbr8afPbQ"
      }
    },
    {
      "cell_type": "code",
      "source": [],
      "metadata": {
        "id": "1TgUQ3qTn_1e"
      },
      "execution_count": null,
      "outputs": []
    },
    {
      "cell_type": "markdown",
      "source": [
        "---\n",
        "\n",
        "\n",
        "*Escriba* su respuesta en esta celda...\n",
        "\n",
        "\n",
        "---"
      ],
      "metadata": {
        "id": "DfCJ0UdsoKYv"
      }
    },
    {
      "cell_type": "markdown",
      "source": [
        "### Pregunta 2.9\n",
        "\n",
        "Escoja la combinación de columnas que considera adecuada emplear, refiriéndose tanto al comportamiento observado de la curva, como al nivel de la métrica empleada al que se alcanza la convergencia.\n",
        "\n",
        "Estime el modelo con $k$ óptimo y las columnas escogidas. Visualice los grupos graficando _scatterplots_. Considere gráficos en 3 dimensiones si su modelo posee 3 o más variables.\n",
        "\n",
        "Describa en qué se diferencian los grupos encontrados y de qué manera le podría afectar la guerra comercial a cada uno. Liste una pequeña muestra representativa de los países que contiene cada grupo.\n"
      ],
      "metadata": {
        "id": "x-3BnLyGf6_d"
      }
    },
    {
      "cell_type": "code",
      "source": [],
      "metadata": {
        "id": "Ykx7WhqYoDR8"
      },
      "execution_count": null,
      "outputs": []
    },
    {
      "cell_type": "markdown",
      "source": [
        "---\n",
        "\n",
        "\n",
        "*Escriba* su respuesta en esta celda...\n",
        "\n",
        "\n",
        "---"
      ],
      "metadata": {
        "id": "AYngTiIioLfC"
      }
    },
    {
      "cell_type": "markdown",
      "source": [
        "## PCA"
      ],
      "metadata": {
        "id": "s22z7zCcgYvP"
      }
    },
    {
      "cell_type": "markdown",
      "source": [
        "_PCA_ es una técnica de reducción de dimensionalidad que nos permite trabajar sobre un set de componentes principales ortogonales (mayor facilidad para los modelos a la hora de detectar patrones), además de permitirnos visualizar espacios multidimensionales, quedándonos sobre el espacio de PCA.\n",
        "\n"
      ],
      "metadata": {
        "id": "r1Yb5QW2kC8a"
      }
    },
    {
      "cell_type": "markdown",
      "source": [
        "### Pregunta 2.10\n",
        "\n",
        "Utilizando todas las variables originales y $k$ óptimo escogido en la pregunta anterior, estime un PCA con 2 componentes principales. Luego, estime un modelo _K-Means_ sobre los componentes principales obtenidos. Grafique las observaciones en un _scatterplot_ de 2 dimensiones. Coloree los puntos usando los label de los clusters obtenidos.\n",
        "\n",
        "¿Cuáles son las principales diferencias entre los grupos? Encuentre las variables más definitivas a la hora de agrupar países con los 2 primeros componentes principales.\n"
      ],
      "metadata": {
        "id": "dTURpbklkLYF"
      }
    },
    {
      "cell_type": "code",
      "source": [],
      "metadata": {
        "id": "raKFyPU1oQue"
      },
      "execution_count": null,
      "outputs": []
    },
    {
      "cell_type": "markdown",
      "source": [
        "---\n",
        "\n",
        "\n",
        "*Escriba* su respuesta en esta celda...\n",
        "\n",
        "\n",
        "---"
      ],
      "metadata": {
        "id": "FmUGY54-oRDz"
      }
    },
    {
      "cell_type": "markdown",
      "source": [
        "### Pregunta 2.11\n",
        "\n",
        "\n",
        "Repita lo anterior  (descripción incluida), pero con 3 componentes principales y un _scatterplot_ en 3 dimensiones."
      ],
      "metadata": {
        "id": "i1c8s2S1kev9"
      }
    },
    {
      "cell_type": "code",
      "source": [],
      "metadata": {
        "id": "b9mfhImWoTe3"
      },
      "execution_count": null,
      "outputs": []
    },
    {
      "cell_type": "markdown",
      "source": [
        "---\n",
        "\n",
        "\n",
        "*Escriba* su respuesta en esta celda...\n",
        "\n",
        "\n",
        "---"
      ],
      "metadata": {
        "id": "mEhG29aSoTke"
      }
    },
    {
      "cell_type": "markdown",
      "source": [
        "### Pregunta 2.12\n",
        "\n",
        "Otro de los usos de los más comúnes de _PCA_, además de _feature engineering_, es la visualización. En esta sección utilizaremos _PCA_ para confirmar visualmente que estamos clusterizando países similares.\n",
        "\n",
        "Usando el diccionario en la celda de abajo agrega una columna de continente al _dataframe_ de trabajo."
      ],
      "metadata": {
        "id": "e-5FNbkDgaP5"
      }
    },
    {
      "cell_type": "code",
      "source": [
        "country_continent_mapping = {\n",
        "    'Albania': 'Europe',\n",
        "    'Argentina': 'South America',\n",
        "    'Armenia': 'Asia',\n",
        "    'Aruba': 'North America', # Usually classified with the Caribbean\n",
        "    'Australia': 'Oceania',\n",
        "    'Austria': 'Europe',\n",
        "    'Azerbaijan': 'Asia',\n",
        "    'Bahrain': 'Asia',\n",
        "    'Belgium': 'Europe',\n",
        "    'Belize': 'North America',\n",
        "    'Bolivia': 'South America',\n",
        "    'Bosnia and Herzegovina': 'Europe',\n",
        "    'Botswana': 'Africa',\n",
        "    'Brazil': 'South America',\n",
        "    'Brunei Darussalam': 'Asia',\n",
        "    'Bulgaria': 'Europe',\n",
        "    'Burkina Faso': 'Africa',\n",
        "    'Cabo Verde': 'Africa',\n",
        "    'Canada': 'North America',\n",
        "    'Chile': 'South America',\n",
        "    'China': 'Asia',\n",
        "    'Colombia': 'South America',\n",
        "    'Congo Dem. Rep.': 'Africa',\n",
        "    'Costa Rica': 'North America',\n",
        "    'Croatia': 'Europe',\n",
        "    'Cyprus': 'Asia',\n",
        "    'Czechia': 'Europe',\n",
        "    'Denmark': 'Europe',\n",
        "    'Dominican Republic': 'North America',\n",
        "    'Ecuador': 'South America',\n",
        "    'Egypt': 'Africa', # Transcontinental, but usually Africa\n",
        "    'El Salvador': 'North America',\n",
        "    'Estonia': 'Europe',\n",
        "    'Ethiopia': 'Africa',\n",
        "    'Finland': 'Europe',\n",
        "    'France': 'Europe',\n",
        "    'Gambia': 'Africa',\n",
        "    'Georgia': 'Asia',\n",
        "    'Germany': 'Europe',\n",
        "    'Ghana': 'Africa',\n",
        "    'Greece': 'Europe',\n",
        "    'Guatemala': 'North America',\n",
        "    'Honduras': 'North America',\n",
        "    'Hong Kong': 'Asia',\n",
        "    'Hungary': 'Europe',\n",
        "    'Iceland': 'Europe',\n",
        "    'India': 'Asia',\n",
        "    'Indonesia': 'Asia',\n",
        "    'Ireland': 'Europe',\n",
        "    'Italy': 'Europe',\n",
        "    'Japan': 'Asia',\n",
        "    'Jordan': 'Asia',\n",
        "    'Kazakhstan': 'Asia', # Transcontinental, mostly Asia\n",
        "    'Kenya': 'Africa',\n",
        "    'Korea Rep.': 'Asia',\n",
        "    'Latvia': 'Europe',\n",
        "    'Lesotho': 'Africa',\n",
        "    'Lithuania': 'Europe',\n",
        "    'Luxembourg': 'Europe',\n",
        "    'Macao': 'Asia',\n",
        "    'Malaysia': 'Asia',\n",
        "    'Malta': 'Europe',\n",
        "    'Mauritania': 'Africa',\n",
        "    'Mauritius': 'Africa',\n",
        "    'Mexico': 'North America',\n",
        "    'Moldova': 'Europe',\n",
        "    'Montenegro': 'Europe',\n",
        "    'Morocco': 'Africa',\n",
        "    'Mozambique': 'Africa',\n",
        "    'Namibia': 'Africa',\n",
        "    'Netherlands': 'Europe',\n",
        "    'New Zealand': 'Oceania',\n",
        "    'Nicaragua': 'North America',\n",
        "    'Niger': 'Africa',\n",
        "    'North Macedonia': 'Europe',\n",
        "    'Norway': 'Europe',\n",
        "    'Pakistan': 'Asia',\n",
        "    'Panama': 'North America',\n",
        "    'Paraguay': 'South America',\n",
        "    'Peru': 'South America',\n",
        "    'Philippines': 'Asia',\n",
        "    'Poland': 'Europe',\n",
        "    'Portugal': 'Europe',\n",
        "    'Romania': 'Europe',\n",
        "    'Samoa': 'Oceania',\n",
        "    'Saudi Arabia': 'Asia',\n",
        "    'Senegal': 'Africa',\n",
        "    'Singapore': 'Asia',\n",
        "    'Slovak Republic': 'Europe',\n",
        "    'Slovenia': 'Europe',\n",
        "    'South Africa': 'Africa',\n",
        "    'Spain': 'Europe',\n",
        "    'Sri Lanka': 'Asia',\n",
        "    'Sweden': 'Europe',\n",
        "    'Switzerland': 'Europe',\n",
        "    'Tanzania': 'Africa',\n",
        "    'Thailand': 'Asia',\n",
        "    'Timor-Leste': 'Asia',\n",
        "    'Tunisia': 'Africa',\n",
        "    'Turkiye': 'Asia', # Transcontinental, mostly Asia\n",
        "    'Uganda': 'Africa',\n",
        "    'Ukraine': 'Europe',\n",
        "    'United Kingdom': 'Europe',\n",
        "    'United States': 'North America',\n",
        "    'Uruguay': 'South America',\n",
        "    'Uzbekistan': 'Asia',\n",
        "    'Zambia': 'Africa'\n",
        "}\n"
      ],
      "metadata": {
        "id": "xocjfeXfgehD"
      },
      "execution_count": null,
      "outputs": []
    },
    {
      "cell_type": "markdown",
      "source": [
        "### Pregunta 2.13\n",
        "\n",
        "Realice un PCA de 2 componentes principales, grafique un _scatterplot_ del resultado y coloree cada punto según su continente. ¿Que se obserba?\n"
      ],
      "metadata": {
        "id": "ZD63i3iqkzPJ"
      }
    },
    {
      "cell_type": "code",
      "source": [],
      "metadata": {
        "id": "6b4jB-gMoeZF"
      },
      "execution_count": null,
      "outputs": []
    },
    {
      "cell_type": "markdown",
      "source": [
        "---\n",
        "\n",
        "\n",
        "*Escriba* su respuesta en esta celda...\n",
        "\n",
        "\n",
        "---"
      ],
      "metadata": {
        "id": "xktT1YAaoc0U"
      }
    },
    {
      "cell_type": "markdown",
      "source": [
        "### Pregunta 2.14\n",
        "\n",
        "Genera el mismo gráfico anterior, pero ahora coloree los puntos del scatterplot usando los clusters de un KMeans de 3 clústers y `random_state=42`. Describa los clusters según el gráfico.\n",
        "\n"
      ],
      "metadata": {
        "id": "b3y-DTSBk6fj"
      }
    },
    {
      "cell_type": "code",
      "source": [],
      "metadata": {
        "id": "GUd3NBLBogw8"
      },
      "execution_count": null,
      "outputs": []
    },
    {
      "cell_type": "markdown",
      "source": [
        "---\n",
        "\n",
        "\n",
        "*Escriba* su respuesta en esta celda...\n",
        "\n",
        "\n",
        "---"
      ],
      "metadata": {
        "id": "lDcgO6Kjog5d"
      }
    },
    {
      "cell_type": "markdown",
      "source": [
        "### Pregunta 2.15\n",
        "\n",
        "¿Cual es la proporcion de cada cluster por continente?\n"
      ],
      "metadata": {
        "id": "6DweNXvelFJf"
      }
    },
    {
      "cell_type": "code",
      "source": [],
      "metadata": {
        "id": "348X2JFCok78"
      },
      "execution_count": null,
      "outputs": []
    },
    {
      "cell_type": "markdown",
      "source": [
        "### Pregunta 2.16\n",
        "\n",
        "¿Cuál es la característica numérica más alta en magnitud por cluster (usando sus centroides)? ¿Cuál es su signo? ¿Como nos ayuda a interpretar los clusters? ¿Que podemos concluir de cada uno de estos clusters en contexto de la guerra comercial?\n"
      ],
      "metadata": {
        "id": "TGbwOcfilNON"
      }
    },
    {
      "cell_type": "code",
      "source": [],
      "metadata": {
        "id": "R-mbOcOQomp-"
      },
      "execution_count": null,
      "outputs": []
    },
    {
      "cell_type": "markdown",
      "source": [
        "---\n",
        "\n",
        "\n",
        "*Escriba* su respuesta en esta celda...\n",
        "\n",
        "\n",
        "---"
      ],
      "metadata": {
        "id": "3xP0vls6omw4"
      }
    }
  ]
}